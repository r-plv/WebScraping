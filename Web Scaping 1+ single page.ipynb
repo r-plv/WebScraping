{
 "cells": [
  {
   "cell_type": "code",
   "execution_count": 1,
   "id": "bfef4fd6",
   "metadata": {},
   "outputs": [],
   "source": [
    "from bs4 import BeautifulSoup as soup\n",
    "from urllib.request import urlopen\n",
    "import numpy as np\n",
    "import pandas as pd"
   ]
  },
  {
   "cell_type": "code",
   "execution_count": 2,
   "id": "a1a9c56c",
   "metadata": {},
   "outputs": [],
   "source": [
    "url = 'https://www.flipkart.com/search?q=oneplus+mobiles&otracker=search&otracker1=search&marketplace=FLIPKART&as-show=on&as=off'"
   ]
  },
  {
   "cell_type": "code",
   "execution_count": 3,
   "id": "7758d963",
   "metadata": {},
   "outputs": [],
   "source": [
    "uClient = urlopen(url)\n",
    "html_page = uClient.read()\n",
    "uClient.close()\n",
    "soup_page = soup(html_page,'html.parser')"
   ]
  },
  {
   "cell_type": "code",
   "execution_count": 4,
   "id": "2bc1d089",
   "metadata": {},
   "outputs": [
    {
     "name": "stdout",
     "output_type": "stream",
     "text": [
      "24\n"
     ]
    }
   ],
   "source": [
    "# Extracting name of mobile from page using 'find' function\n",
    "containers = soup_page.findAll('div',{'class':'_4rR01T'})\n",
    "# containers = soup_page.find_all('div',class_='_4rR01T')\n",
    "print(len(containers))"
   ]
  },
  {
   "cell_type": "code",
   "execution_count": 5,
   "id": "5aae6d2d",
   "metadata": {},
   "outputs": [
    {
     "name": "stdout",
     "output_type": "stream",
     "text": [
      "<div class=\"_4rR01T\">\n",
      " OnePlus Nord CE 2 Lite 5G (Blue Tide, 128 GB)\n",
      "</div>\n",
      "\n"
     ]
    }
   ],
   "source": [
    "print(soup.prettify(containers[0]))"
   ]
  },
  {
   "cell_type": "code",
   "execution_count": 6,
   "id": "15743845",
   "metadata": {},
   "outputs": [
    {
     "data": {
      "text/plain": [
       "'OnePlus Nord CE 2 Lite 5G (Blue Tide, 128 GB)'"
      ]
     },
     "execution_count": 6,
     "metadata": {},
     "output_type": "execute_result"
    }
   ],
   "source": [
    "# '.text' is used to get string from html tag\n",
    "name = containers[0].text\n",
    "name"
   ]
  },
  {
   "cell_type": "code",
   "execution_count": 7,
   "id": "7e3cbdb3",
   "metadata": {},
   "outputs": [
    {
     "data": {
      "text/plain": [
       "'₹19,894'"
      ]
     },
     "execution_count": 7,
     "metadata": {},
     "output_type": "execute_result"
    }
   ],
   "source": [
    "# Extracting price\n",
    "price = soup_page.find('div',{'class':'_30jeq3 _1_WHN1'}).text\n",
    "# price = soup_page.find('div',class_='_30jeq3 _1_WHN1').text\n",
    "price"
   ]
  },
  {
   "cell_type": "code",
   "execution_count": 8,
   "id": "7f84507f",
   "metadata": {},
   "outputs": [
    {
     "data": {
      "text/plain": [
       "4.4"
      ]
     },
     "execution_count": 8,
     "metadata": {},
     "output_type": "execute_result"
    }
   ],
   "source": [
    "# Extracting rating\n",
    "rating = soup_page.find('div',{'class':'_3LWZlK'}).text\n",
    "# rating = soup_page.find('div',class_='_3LWZlK').text\n",
    "float(rating)"
   ]
  },
  {
   "cell_type": "code",
   "execution_count": 9,
   "id": "787b8cf9",
   "metadata": {},
   "outputs": [
    {
     "data": {
      "text/plain": [
       "'6 GB RAM | 128 GB ROM16.74 cm (6.59 inch) Display64MP Rear Camera5000 mAh Battery12 Months'"
      ]
     },
     "execution_count": 9,
     "metadata": {},
     "output_type": "execute_result"
    }
   ],
   "source": [
    "# Extracting other details\n",
    "# details = soup_page.find('ul',{'class':'_1xgFaf'}) -- This gives error at nxt step 'list index out of range'\n",
    "# details = soup_page.find('div',class_='fMghEO')\n",
    "details = soup_page.find('div',{'class':'fMghEO'})\n",
    "details.text"
   ]
  },
  {
   "cell_type": "code",
   "execution_count": 10,
   "id": "e95aab0c",
   "metadata": {},
   "outputs": [
    {
     "name": "stdout",
     "output_type": "stream",
     "text": [
      "6 GB RAM | 128 GB ROM\n",
      "16.74 cm (6.59 inch) Display\n",
      "64MP Rear Camera\n",
      "5000 mAh Battery\n",
      "12 Months\n"
     ]
    }
   ],
   "source": [
    "# Extracting data seperately\n",
    "for each in details:\n",
    "    detail = each.find_all('li',{'class':'rgWa7D'})\n",
    "    print(detail[0].text)\n",
    "    print(detail[1].text)\n",
    "    print(detail[2].text)\n",
    "    print(detail[3].text)"
   ]
  },
  {
   "cell_type": "code",
   "execution_count": 11,
   "id": "861f30b2",
   "metadata": {},
   "outputs": [],
   "source": [
    "Name = []               # List storing Product names\n",
    "Rating = []             # List storing Product Ratings\n",
    "RAM_GB,ROM_GB = [],[]   # List storing RAM & ROM details of products\n",
    "Display_in_cm = []      # List storing Display information\n",
    "RearCamera = []         # List storing RearCamera specification\n",
    "Battery = []            # List for storing Battery specification\n",
    "Price = []              # List storing Price of products"
   ]
  },
  {
   "cell_type": "code",
   "execution_count": 12,
   "id": "90659c0b",
   "metadata": {},
   "outputs": [],
   "source": [
    "'''The first argument is the HTML tag you want to search & \n",
    "second argument is a dictionary type element to specify the additional attributes associated with that tag.'''\n",
    "\n",
    "for data in soup_page.findAll('div',{'class':'_3pLy-c row'}):\n",
    "    names = data.find('div',attrs={'class':'_4rR01T'}).text\n",
    "    ratings = data.find('div',attrs={'class':'_3LWZlK'})\n",
    "    prices = int(data.find('div',attrs={'class':'_30jeq3 _1_WHN1'}).text.replace('₹','').replace(',',''))\n",
    "    details = data.find('div',attrs={'class':'fMghEO'})\n",
    "    for each in details:\n",
    "        detail = each.findAll('li',attrs={'class':'rgWa7D'})\n",
    "        ram = int(detail[0].text.split()[0])\n",
    "        rom = int(detail[0].text.split('|')[1].split()[0])\n",
    "        display = float(detail[1].text.split()[0])\n",
    "        camera = detail[2].text.split()[0].rstrip('MP')\n",
    "        battery = int(detail[3].text.split()[0])\n",
    "    \n",
    "    Name.append(names)\n",
    "    RAM_GB.append(ram)\n",
    "    ROM_GB.append(rom)\n",
    "    Display_in_cm.append(display)\n",
    "    RearCamera.append(camera)\n",
    "    Battery.append(battery)\n",
    "    Price.append(prices)\n",
    "    # There exists missing values in Rating section to handle those missing values we performed following code.\n",
    "    if ratings==None:\n",
    "        Rating.append(np.nan)\n",
    "    else:\n",
    "        Rating.append(float(ratings.text))"
   ]
  },
  {
   "cell_type": "code",
   "execution_count": 13,
   "id": "49e8366e",
   "metadata": {},
   "outputs": [
    {
     "data": {
      "text/plain": [
       "(24, 24, 24, 24, 24, 24, 24, 24)"
      ]
     },
     "execution_count": 13,
     "metadata": {},
     "output_type": "execute_result"
    }
   ],
   "source": [
    "len(Name),len(Rating),len(Price),len(RAM_GB),len(ROM_GB),len(Display_in_cm),len(RearCamera),len(Battery)"
   ]
  },
  {
   "cell_type": "code",
   "execution_count": 14,
   "id": "402c4631",
   "metadata": {},
   "outputs": [],
   "source": [
    "df = pd.DataFrame({'Name':Name,'RAM_GB':RAM_GB,'ROM_GB':ROM_GB,'Display_in_cm':Display_in_cm,'RearCamera':RearCamera,\n",
    "                   'Battery':Battery,'Price':Price,'Rating':Rating})"
   ]
  },
  {
   "cell_type": "code",
   "execution_count": 15,
   "id": "43a88cfe",
   "metadata": {},
   "outputs": [
    {
     "data": {
      "text/html": [
       "<div>\n",
       "<style scoped>\n",
       "    .dataframe tbody tr th:only-of-type {\n",
       "        vertical-align: middle;\n",
       "    }\n",
       "\n",
       "    .dataframe tbody tr th {\n",
       "        vertical-align: top;\n",
       "    }\n",
       "\n",
       "    .dataframe thead th {\n",
       "        text-align: right;\n",
       "    }\n",
       "</style>\n",
       "<table border=\"1\" class=\"dataframe\">\n",
       "  <thead>\n",
       "    <tr style=\"text-align: right;\">\n",
       "      <th></th>\n",
       "      <th>Name</th>\n",
       "      <th>RAM_GB</th>\n",
       "      <th>ROM_GB</th>\n",
       "      <th>Display_in_cm</th>\n",
       "      <th>RearCamera</th>\n",
       "      <th>Battery</th>\n",
       "      <th>Price</th>\n",
       "      <th>Rating</th>\n",
       "    </tr>\n",
       "  </thead>\n",
       "  <tbody>\n",
       "    <tr>\n",
       "      <th>0</th>\n",
       "      <td>OnePlus Nord CE 2 Lite 5G (Blue Tide, 128 GB)</td>\n",
       "      <td>6</td>\n",
       "      <td>128</td>\n",
       "      <td>16.74</td>\n",
       "      <td>64</td>\n",
       "      <td>5000</td>\n",
       "      <td>19894</td>\n",
       "      <td>4.4</td>\n",
       "    </tr>\n",
       "    <tr>\n",
       "      <th>1</th>\n",
       "      <td>OnePlus Nord CE 2 Lite 5G (Black Dusk, 128 GB)</td>\n",
       "      <td>6</td>\n",
       "      <td>128</td>\n",
       "      <td>16.74</td>\n",
       "      <td>64</td>\n",
       "      <td>5000</td>\n",
       "      <td>19414</td>\n",
       "      <td>4.4</td>\n",
       "    </tr>\n",
       "    <tr>\n",
       "      <th>2</th>\n",
       "      <td>OnePlus Nord CE 2 Lite 5G (Blue Tide, 128 GB)</td>\n",
       "      <td>8</td>\n",
       "      <td>128</td>\n",
       "      <td>16.74</td>\n",
       "      <td>64</td>\n",
       "      <td>5000</td>\n",
       "      <td>21998</td>\n",
       "      <td>4.3</td>\n",
       "    </tr>\n",
       "    <tr>\n",
       "      <th>3</th>\n",
       "      <td>OnePlus 10R (Forest Green, 256 GB)</td>\n",
       "      <td>12</td>\n",
       "      <td>256</td>\n",
       "      <td>17.02</td>\n",
       "      <td>50</td>\n",
       "      <td>5000</td>\n",
       "      <td>39000</td>\n",
       "      <td>4.1</td>\n",
       "    </tr>\n",
       "    <tr>\n",
       "      <th>4</th>\n",
       "      <td>OnePlus 11R 5G (Galactic Silver, 128 GB)</td>\n",
       "      <td>8</td>\n",
       "      <td>128</td>\n",
       "      <td>17.02</td>\n",
       "      <td>50</td>\n",
       "      <td>5000</td>\n",
       "      <td>39800</td>\n",
       "      <td>4.7</td>\n",
       "    </tr>\n",
       "    <tr>\n",
       "      <th>5</th>\n",
       "      <td>OnePlus 10R (Forest Green, 128 GB)</td>\n",
       "      <td>8</td>\n",
       "      <td>128</td>\n",
       "      <td>17.02</td>\n",
       "      <td>50</td>\n",
       "      <td>5000</td>\n",
       "      <td>33560</td>\n",
       "      <td>4.4</td>\n",
       "    </tr>\n",
       "    <tr>\n",
       "      <th>6</th>\n",
       "      <td>OnePlus 11R 5G (Galactic Silver, 256 GB)</td>\n",
       "      <td>16</td>\n",
       "      <td>256</td>\n",
       "      <td>17.02</td>\n",
       "      <td>50</td>\n",
       "      <td>5000</td>\n",
       "      <td>44999</td>\n",
       "      <td>NaN</td>\n",
       "    </tr>\n",
       "    <tr>\n",
       "      <th>7</th>\n",
       "      <td>OnePlus 11 5G (Titan Black, 256 GB)</td>\n",
       "      <td>16</td>\n",
       "      <td>256</td>\n",
       "      <td>17.02</td>\n",
       "      <td>50</td>\n",
       "      <td>5000</td>\n",
       "      <td>61999</td>\n",
       "      <td>4.4</td>\n",
       "    </tr>\n",
       "    <tr>\n",
       "      <th>8</th>\n",
       "      <td>OnePlus 10R 5G (Forest Green, 256 GB)</td>\n",
       "      <td>12</td>\n",
       "      <td>256</td>\n",
       "      <td>17.02</td>\n",
       "      <td>50</td>\n",
       "      <td>5000</td>\n",
       "      <td>41990</td>\n",
       "      <td>4.2</td>\n",
       "    </tr>\n",
       "    <tr>\n",
       "      <th>9</th>\n",
       "      <td>OnePlus Nord 2T 5G (Gray Shadow, 128 GB)</td>\n",
       "      <td>8</td>\n",
       "      <td>128</td>\n",
       "      <td>17.02</td>\n",
       "      <td>50</td>\n",
       "      <td>4500</td>\n",
       "      <td>28999</td>\n",
       "      <td>4.3</td>\n",
       "    </tr>\n",
       "    <tr>\n",
       "      <th>10</th>\n",
       "      <td>OnePlus 10R 5G (Sierra Black, 256 GB)</td>\n",
       "      <td>12</td>\n",
       "      <td>256</td>\n",
       "      <td>17.02</td>\n",
       "      <td>50</td>\n",
       "      <td>5000</td>\n",
       "      <td>41900</td>\n",
       "      <td>4.2</td>\n",
       "    </tr>\n",
       "    <tr>\n",
       "      <th>11</th>\n",
       "      <td>OnePlus 10T 5G (Jade Green, 256 GB)</td>\n",
       "      <td>12</td>\n",
       "      <td>256</td>\n",
       "      <td>17.02</td>\n",
       "      <td>50</td>\n",
       "      <td>4800</td>\n",
       "      <td>54999</td>\n",
       "      <td>4.1</td>\n",
       "    </tr>\n",
       "    <tr>\n",
       "      <th>12</th>\n",
       "      <td>OnePlus Nord CE 2 Lite 5G (Black Dusk, 128 GB)</td>\n",
       "      <td>8</td>\n",
       "      <td>128</td>\n",
       "      <td>16.74</td>\n",
       "      <td>64</td>\n",
       "      <td>5000</td>\n",
       "      <td>21999</td>\n",
       "      <td>4.3</td>\n",
       "    </tr>\n",
       "    <tr>\n",
       "      <th>13</th>\n",
       "      <td>OnePlus 10R (Sierra Black, 128 GB)</td>\n",
       "      <td>8</td>\n",
       "      <td>128</td>\n",
       "      <td>17.02</td>\n",
       "      <td>50</td>\n",
       "      <td>5000</td>\n",
       "      <td>33298</td>\n",
       "      <td>4.4</td>\n",
       "    </tr>\n",
       "    <tr>\n",
       "      <th>14</th>\n",
       "      <td>OnePlus Nord 2T 5G (Jade Fog, 256 GB)</td>\n",
       "      <td>12</td>\n",
       "      <td>256</td>\n",
       "      <td>17.02</td>\n",
       "      <td>50</td>\n",
       "      <td>4500</td>\n",
       "      <td>33900</td>\n",
       "      <td>4.3</td>\n",
       "    </tr>\n",
       "    <tr>\n",
       "      <th>15</th>\n",
       "      <td>OnePlus 11R 5G (Sonic Black, 128 GB)</td>\n",
       "      <td>8</td>\n",
       "      <td>128</td>\n",
       "      <td>17.02</td>\n",
       "      <td>50</td>\n",
       "      <td>5000</td>\n",
       "      <td>39899</td>\n",
       "      <td>4.7</td>\n",
       "    </tr>\n",
       "    <tr>\n",
       "      <th>16</th>\n",
       "      <td>OnePlus Nord 2T 5G (Gray Shadow, 256 GB)</td>\n",
       "      <td>12</td>\n",
       "      <td>256</td>\n",
       "      <td>17.02</td>\n",
       "      <td>50</td>\n",
       "      <td>4500</td>\n",
       "      <td>33990</td>\n",
       "      <td>4.3</td>\n",
       "    </tr>\n",
       "    <tr>\n",
       "      <th>17</th>\n",
       "      <td>OnePlus 11R 5G (Sonic Black, 256 GB)</td>\n",
       "      <td>16</td>\n",
       "      <td>256</td>\n",
       "      <td>17.02</td>\n",
       "      <td>50</td>\n",
       "      <td>5000</td>\n",
       "      <td>44990</td>\n",
       "      <td>NaN</td>\n",
       "    </tr>\n",
       "    <tr>\n",
       "      <th>18</th>\n",
       "      <td>OnePlus 11 5G (Titan Black, 128 GB)</td>\n",
       "      <td>8</td>\n",
       "      <td>128</td>\n",
       "      <td>17.02</td>\n",
       "      <td>50</td>\n",
       "      <td>5000</td>\n",
       "      <td>55997</td>\n",
       "      <td>4.8</td>\n",
       "    </tr>\n",
       "    <tr>\n",
       "      <th>19</th>\n",
       "      <td>OnePlus 11 5G (?Eternal Green, 128 GB)</td>\n",
       "      <td>8</td>\n",
       "      <td>128</td>\n",
       "      <td>17.02</td>\n",
       "      <td>50</td>\n",
       "      <td>5000</td>\n",
       "      <td>55798</td>\n",
       "      <td>4.8</td>\n",
       "    </tr>\n",
       "    <tr>\n",
       "      <th>20</th>\n",
       "      <td>OnePlus 10 Pro 5G (Emerald Forest, 256 GB)</td>\n",
       "      <td>12</td>\n",
       "      <td>256</td>\n",
       "      <td>17.02</td>\n",
       "      <td>48</td>\n",
       "      <td>5000</td>\n",
       "      <td>64990</td>\n",
       "      <td>3.9</td>\n",
       "    </tr>\n",
       "    <tr>\n",
       "      <th>21</th>\n",
       "      <td>OnePlus 10 Pro 5G (Volcanic Black, 128 GB)</td>\n",
       "      <td>8</td>\n",
       "      <td>128</td>\n",
       "      <td>17.02</td>\n",
       "      <td>48</td>\n",
       "      <td>5000</td>\n",
       "      <td>58995</td>\n",
       "      <td>4.2</td>\n",
       "    </tr>\n",
       "    <tr>\n",
       "      <th>22</th>\n",
       "      <td>OnePlus 9 5G (Arctic Sky, 128 GB)</td>\n",
       "      <td>8</td>\n",
       "      <td>128</td>\n",
       "      <td>16.64</td>\n",
       "      <td>48</td>\n",
       "      <td>4500</td>\n",
       "      <td>36060</td>\n",
       "      <td>3.9</td>\n",
       "    </tr>\n",
       "    <tr>\n",
       "      <th>23</th>\n",
       "      <td>OnePlus Nord CE 5G (Charcoal Ink, 128 GB)</td>\n",
       "      <td>8</td>\n",
       "      <td>128</td>\n",
       "      <td>16.33</td>\n",
       "      <td>64</td>\n",
       "      <td>4500</td>\n",
       "      <td>24990</td>\n",
       "      <td>3.6</td>\n",
       "    </tr>\n",
       "  </tbody>\n",
       "</table>\n",
       "</div>"
      ],
      "text/plain": [
       "                                              Name  RAM_GB  ROM_GB  \\\n",
       "0    OnePlus Nord CE 2 Lite 5G (Blue Tide, 128 GB)       6     128   \n",
       "1   OnePlus Nord CE 2 Lite 5G (Black Dusk, 128 GB)       6     128   \n",
       "2    OnePlus Nord CE 2 Lite 5G (Blue Tide, 128 GB)       8     128   \n",
       "3               OnePlus 10R (Forest Green, 256 GB)      12     256   \n",
       "4         OnePlus 11R 5G (Galactic Silver, 128 GB)       8     128   \n",
       "5               OnePlus 10R (Forest Green, 128 GB)       8     128   \n",
       "6         OnePlus 11R 5G (Galactic Silver, 256 GB)      16     256   \n",
       "7              OnePlus 11 5G (Titan Black, 256 GB)      16     256   \n",
       "8            OnePlus 10R 5G (Forest Green, 256 GB)      12     256   \n",
       "9         OnePlus Nord 2T 5G (Gray Shadow, 128 GB)       8     128   \n",
       "10           OnePlus 10R 5G (Sierra Black, 256 GB)      12     256   \n",
       "11             OnePlus 10T 5G (Jade Green, 256 GB)      12     256   \n",
       "12  OnePlus Nord CE 2 Lite 5G (Black Dusk, 128 GB)       8     128   \n",
       "13              OnePlus 10R (Sierra Black, 128 GB)       8     128   \n",
       "14           OnePlus Nord 2T 5G (Jade Fog, 256 GB)      12     256   \n",
       "15            OnePlus 11R 5G (Sonic Black, 128 GB)       8     128   \n",
       "16        OnePlus Nord 2T 5G (Gray Shadow, 256 GB)      12     256   \n",
       "17            OnePlus 11R 5G (Sonic Black, 256 GB)      16     256   \n",
       "18             OnePlus 11 5G (Titan Black, 128 GB)       8     128   \n",
       "19          OnePlus 11 5G (?Eternal Green, 128 GB)       8     128   \n",
       "20      OnePlus 10 Pro 5G (Emerald Forest, 256 GB)      12     256   \n",
       "21      OnePlus 10 Pro 5G (Volcanic Black, 128 GB)       8     128   \n",
       "22               OnePlus 9 5G (Arctic Sky, 128 GB)       8     128   \n",
       "23       OnePlus Nord CE 5G (Charcoal Ink, 128 GB)       8     128   \n",
       "\n",
       "    Display_in_cm RearCamera  Battery  Price  Rating  \n",
       "0           16.74         64     5000  19894     4.4  \n",
       "1           16.74         64     5000  19414     4.4  \n",
       "2           16.74         64     5000  21998     4.3  \n",
       "3           17.02         50     5000  39000     4.1  \n",
       "4           17.02         50     5000  39800     4.7  \n",
       "5           17.02         50     5000  33560     4.4  \n",
       "6           17.02         50     5000  44999     NaN  \n",
       "7           17.02         50     5000  61999     4.4  \n",
       "8           17.02         50     5000  41990     4.2  \n",
       "9           17.02         50     4500  28999     4.3  \n",
       "10          17.02         50     5000  41900     4.2  \n",
       "11          17.02         50     4800  54999     4.1  \n",
       "12          16.74         64     5000  21999     4.3  \n",
       "13          17.02         50     5000  33298     4.4  \n",
       "14          17.02         50     4500  33900     4.3  \n",
       "15          17.02         50     5000  39899     4.7  \n",
       "16          17.02         50     4500  33990     4.3  \n",
       "17          17.02         50     5000  44990     NaN  \n",
       "18          17.02         50     5000  55997     4.8  \n",
       "19          17.02         50     5000  55798     4.8  \n",
       "20          17.02         48     5000  64990     3.9  \n",
       "21          17.02         48     5000  58995     4.2  \n",
       "22          16.64         48     4500  36060     3.9  \n",
       "23          16.33         64     4500  24990     3.6  "
      ]
     },
     "execution_count": 15,
     "metadata": {},
     "output_type": "execute_result"
    }
   ],
   "source": [
    "df"
   ]
  },
  {
   "cell_type": "code",
   "execution_count": 16,
   "id": "4c215656",
   "metadata": {},
   "outputs": [
    {
     "name": "stdout",
     "output_type": "stream",
     "text": [
      "<class 'pandas.core.frame.DataFrame'>\n",
      "RangeIndex: 24 entries, 0 to 23\n",
      "Data columns (total 8 columns):\n",
      " #   Column         Non-Null Count  Dtype  \n",
      "---  ------         --------------  -----  \n",
      " 0   Name           24 non-null     object \n",
      " 1   RAM_GB         24 non-null     int64  \n",
      " 2   ROM_GB         24 non-null     int64  \n",
      " 3   Display_in_cm  24 non-null     float64\n",
      " 4   RearCamera     24 non-null     object \n",
      " 5   Battery        24 non-null     int64  \n",
      " 6   Price          24 non-null     int64  \n",
      " 7   Rating         22 non-null     float64\n",
      "dtypes: float64(2), int64(4), object(2)\n",
      "memory usage: 1.6+ KB\n"
     ]
    }
   ],
   "source": [
    "df.info()"
   ]
  }
 ],
 "metadata": {
  "kernelspec": {
   "display_name": "Python [conda env:env1]",
   "language": "python",
   "name": "conda-env-env1-py"
  },
  "language_info": {
   "codemirror_mode": {
    "name": "ipython",
    "version": 3
   },
   "file_extension": ".py",
   "mimetype": "text/x-python",
   "name": "python",
   "nbconvert_exporter": "python",
   "pygments_lexer": "ipython3",
   "version": "3.10.8"
  }
 },
 "nbformat": 4,
 "nbformat_minor": 5
}
